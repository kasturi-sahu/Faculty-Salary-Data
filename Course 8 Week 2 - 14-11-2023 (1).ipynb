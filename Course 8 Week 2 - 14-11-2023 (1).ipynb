{
 "cells": [
  {
   "cell_type": "markdown",
   "metadata": {},
   "source": [
    "# Faculty Salary Data\n"
   ]
  },
  {
   "cell_type": "markdown",
   "metadata": {},
   "source": [
    "## BACKGROUND\n",
    "Differences in salaries between men and women at US colleges and universities are well documented. Because salary discrimination based on sex is illegal in the US, there is considerable controversy over whether the differences between male and female faculty members salaries are due to sex bias. Other explanations which have been put forward for salary disparities between men and women include differences in experience, degree attained, the field in which one works, administrative responsibilities, and productivity, among others.\n",
    "\n",
    "The variable names and description are given below:\n",
    "\n",
    "case = case number\n",
    "\n",
    "id = identification number for the faculty member\n",
    "\n",
    "sex = M (male) or F (female)\n",
    "\n",
    "deg = highest degree attained: PhD, Prof (professional degree, eg, \n",
    "medicine or law), or Other (Master's or Bachelor's degree)\n",
    "\n",
    "yrdeg = year highest degree attained\n",
    "\n",
    "field = Arts (Arts and Humanities), Prof (professional school, ie, \n",
    "Business, Law, Engineering or Public Affairs), or Other\n",
    "\n",
    "startyr = year in which the faculty member was hired (2 digits)\n",
    "\n",
    "year = year (2 digits)\n",
    "\n",
    "rank = rank of the faculty member in this year: Assist (Assistant), \n",
    "Assoc (Associate), or Full (Full)\n",
    "\n",
    "admin = indicator of whether the faculty member had administrative \n",
    "duties (eg, department chair) in this year: 1 (yes), or 0 (no)\n",
    "\n",
    "salary = monthly salary of the faculty member in this year in dollars \n"
   ]
  },
  {
   "cell_type": "markdown",
   "metadata": {},
   "source": [
    "## QUESTIONS OF INTEREST\n",
    "\n",
    "The goal of the analysis is to determine whether sex bias exists and to describe the magnitude and nature of the effect. Your analysis should revolve around the following specific questions of interest:\n",
    "\n",
    "1. How the salary is distributed according to the Rank?\n",
    "2. Overall, how would you answer the question: Is there sex bias in salaries at the university?\n",
    "3. How the salary is distributed according to the Degree?"
   ]
  },
  {
   "cell_type": "markdown",
   "metadata": {},
   "source": [
    "# Importing Libraries<a id=\"0\"></a>\n"
   ]
  },
  {
   "cell_type": "code",
   "execution_count": 1,
   "metadata": {
    "tags": []
   },
   "outputs": [
    {
     "name": "stdout",
     "output_type": "stream",
     "text": [
      "Matplotlib version:  3.3.2\n"
     ]
    }
   ],
   "source": [
    "#Import primary modules.\n",
    "import numpy as np  # useful for many scientific computing in Python\n",
    "import pandas as pd # primary data structure library\n",
    "\n",
    "#Importing Matplotlib\n",
    "#%matplotlib inline\n",
    "\n",
    "import matplotlib as mpl\n",
    "import matplotlib.pyplot as plt\n",
    "\n",
    "mpl.style.use('ggplot') # optional: for ggplot-like style\n",
    "\n",
    "# check for latest version of Matplotlib\n",
    "print('Matplotlib version: ', mpl.__version__) # >= 2.0.0"
   ]
  },
  {
   "cell_type": "markdown",
   "metadata": {},
   "source": [
    "## Importing Data <a id=\"2\"></a>\n",
    "Dataset: https://courses.washington.edu/b517/Datasets/SalaryData.csv\n"
   ]
  },
  {
   "cell_type": "code",
   "execution_count": 2,
   "metadata": {
    "tags": []
   },
   "outputs": [
    {
     "name": "stdout",
     "output_type": "stream",
     "text": [
      "Data read into a pandas dataframe!\n"
     ]
    }
   ],
   "source": [
    "df_can = pd.read_csv('https://courses.washington.edu/b517/Datasets/SalaryData.csv')\n",
    "\n",
    "print('Data read into a pandas dataframe!')"
   ]
  },
  {
   "cell_type": "code",
   "execution_count": 3,
   "metadata": {
    "tags": []
   },
   "outputs": [
    {
     "data": {
      "text/html": [
       "<div>\n",
       "<style scoped>\n",
       "    .dataframe tbody tr th:only-of-type {\n",
       "        vertical-align: middle;\n",
       "    }\n",
       "\n",
       "    .dataframe tbody tr th {\n",
       "        vertical-align: top;\n",
       "    }\n",
       "\n",
       "    .dataframe thead th {\n",
       "        text-align: right;\n",
       "    }\n",
       "</style>\n",
       "<table border=\"1\" class=\"dataframe\">\n",
       "  <thead>\n",
       "    <tr style=\"text-align: right;\">\n",
       "      <th></th>\n",
       "      <th>case</th>\n",
       "      <th>id</th>\n",
       "      <th>gender</th>\n",
       "      <th>deg</th>\n",
       "      <th>yrdeg</th>\n",
       "      <th>field</th>\n",
       "      <th>startyr</th>\n",
       "      <th>year</th>\n",
       "      <th>rank</th>\n",
       "      <th>admin</th>\n",
       "      <th>salary</th>\n",
       "    </tr>\n",
       "  </thead>\n",
       "  <tbody>\n",
       "    <tr>\n",
       "      <th>0</th>\n",
       "      <td>1</td>\n",
       "      <td>1</td>\n",
       "      <td>F</td>\n",
       "      <td>Other</td>\n",
       "      <td>92</td>\n",
       "      <td>Other</td>\n",
       "      <td>95</td>\n",
       "      <td>95</td>\n",
       "      <td>Assist</td>\n",
       "      <td>0</td>\n",
       "      <td>6684.0</td>\n",
       "    </tr>\n",
       "    <tr>\n",
       "      <th>1</th>\n",
       "      <td>2</td>\n",
       "      <td>2</td>\n",
       "      <td>M</td>\n",
       "      <td>Other</td>\n",
       "      <td>91</td>\n",
       "      <td>Other</td>\n",
       "      <td>94</td>\n",
       "      <td>94</td>\n",
       "      <td>Assist</td>\n",
       "      <td>0</td>\n",
       "      <td>4743.0</td>\n",
       "    </tr>\n",
       "    <tr>\n",
       "      <th>2</th>\n",
       "      <td>3</td>\n",
       "      <td>2</td>\n",
       "      <td>M</td>\n",
       "      <td>Other</td>\n",
       "      <td>91</td>\n",
       "      <td>Other</td>\n",
       "      <td>94</td>\n",
       "      <td>95</td>\n",
       "      <td>Assist</td>\n",
       "      <td>0</td>\n",
       "      <td>4881.0</td>\n",
       "    </tr>\n",
       "    <tr>\n",
       "      <th>3</th>\n",
       "      <td>4</td>\n",
       "      <td>4</td>\n",
       "      <td>M</td>\n",
       "      <td>PhD</td>\n",
       "      <td>96</td>\n",
       "      <td>Other</td>\n",
       "      <td>95</td>\n",
       "      <td>95</td>\n",
       "      <td>Assist</td>\n",
       "      <td>0</td>\n",
       "      <td>4231.0</td>\n",
       "    </tr>\n",
       "    <tr>\n",
       "      <th>4</th>\n",
       "      <td>5</td>\n",
       "      <td>6</td>\n",
       "      <td>M</td>\n",
       "      <td>PhD</td>\n",
       "      <td>66</td>\n",
       "      <td>Other</td>\n",
       "      <td>91</td>\n",
       "      <td>91</td>\n",
       "      <td>Full</td>\n",
       "      <td>1</td>\n",
       "      <td>11182.0</td>\n",
       "    </tr>\n",
       "  </tbody>\n",
       "</table>\n",
       "</div>"
      ],
      "text/plain": [
       "   case  id gender    deg  yrdeg  field  startyr  year    rank  admin   salary\n",
       "0     1   1      F  Other     92  Other       95    95  Assist      0   6684.0\n",
       "1     2   2      M  Other     91  Other       94    94  Assist      0   4743.0\n",
       "2     3   2      M  Other     91  Other       94    95  Assist      0   4881.0\n",
       "3     4   4      M    PhD     96  Other       95    95  Assist      0   4231.0\n",
       "4     5   6      M    PhD     66  Other       91    91    Full      1  11182.0"
      ]
     },
     "execution_count": 3,
     "metadata": {},
     "output_type": "execute_result"
    }
   ],
   "source": [
    "df_can.head()"
   ]
  },
  {
   "cell_type": "markdown",
   "metadata": {},
   "source": [
    "Let's find out how many entries there are in our dataset.\n"
   ]
  },
  {
   "cell_type": "code",
   "execution_count": 4,
   "metadata": {
    "tags": []
   },
   "outputs": [
    {
     "name": "stdout",
     "output_type": "stream",
     "text": [
      "(19792, 11)\n"
     ]
    }
   ],
   "source": [
    "# print the dimensions of the dataframe\n",
    "print(df_can.shape)"
   ]
  },
  {
   "cell_type": "markdown",
   "metadata": {},
   "source": [
    "# Visualizing Data using Matplotlib<a id=\"4\"></a>\n"
   ]
  },
  {
   "cell_type": "code",
   "execution_count": 7,
   "metadata": {
    "tags": []
   },
   "outputs": [
    {
     "data": {
      "text/plain": [
       "case       0\n",
       "id         0\n",
       "gender     0\n",
       "deg        0\n",
       "yrdeg      0\n",
       "field      0\n",
       "startyr    0\n",
       "year       0\n",
       "rank       4\n",
       "admin      0\n",
       "salary     0\n",
       "dtype: int64"
      ]
     },
     "execution_count": 7,
     "metadata": {},
     "output_type": "execute_result"
    }
   ],
   "source": [
    "# Looking for null values\n",
    "df_can.isnull().sum()"
   ]
  },
  {
   "cell_type": "code",
   "execution_count": null,
   "metadata": {},
   "outputs": [],
   "source": [
    "df_can_rows = df_can[df_can.isnull().any(axis = 1)]\n",
    "df_null_rows"
   ]
  },
  {
   "cell_type": "code",
   "execution_count": 14,
   "metadata": {},
   "outputs": [],
   "source": [
    "# Dropping the null values\n",
    "df_can.dropna(inplace = True)"
   ]
  },
  {
   "cell_type": "code",
   "execution_count": 15,
   "metadata": {},
   "outputs": [
    {
     "data": {
      "text/plain": [
       "case       0\n",
       "id         0\n",
       "gender     0\n",
       "deg        0\n",
       "yrdeg      0\n",
       "field      0\n",
       "startyr    0\n",
       "year       0\n",
       "rank       0\n",
       "admin      0\n",
       "salary     0\n",
       "dtype: int64"
      ]
     },
     "execution_count": 15,
     "metadata": {},
     "output_type": "execute_result"
    }
   ],
   "source": [
    "df_can.isnull().sum()"
   ]
  },
  {
   "cell_type": "code",
   "execution_count": 16,
   "metadata": {},
   "outputs": [
    {
     "data": {
      "text/html": [
       "<div>\n",
       "<style scoped>\n",
       "    .dataframe tbody tr th:only-of-type {\n",
       "        vertical-align: middle;\n",
       "    }\n",
       "\n",
       "    .dataframe tbody tr th {\n",
       "        vertical-align: top;\n",
       "    }\n",
       "\n",
       "    .dataframe thead th {\n",
       "        text-align: right;\n",
       "    }\n",
       "</style>\n",
       "<table border=\"1\" class=\"dataframe\">\n",
       "  <thead>\n",
       "    <tr style=\"text-align: right;\">\n",
       "      <th></th>\n",
       "      <th>case</th>\n",
       "      <th>id</th>\n",
       "      <th>gender</th>\n",
       "      <th>deg</th>\n",
       "      <th>yrdeg</th>\n",
       "      <th>field</th>\n",
       "      <th>startyr</th>\n",
       "      <th>year</th>\n",
       "      <th>rank</th>\n",
       "      <th>admin</th>\n",
       "      <th>salary</th>\n",
       "    </tr>\n",
       "  </thead>\n",
       "  <tbody>\n",
       "    <tr>\n",
       "      <th>0</th>\n",
       "      <td>1</td>\n",
       "      <td>1</td>\n",
       "      <td>F</td>\n",
       "      <td>Other</td>\n",
       "      <td>92</td>\n",
       "      <td>Other</td>\n",
       "      <td>95</td>\n",
       "      <td>95</td>\n",
       "      <td>Assist</td>\n",
       "      <td>0</td>\n",
       "      <td>6684.0</td>\n",
       "    </tr>\n",
       "    <tr>\n",
       "      <th>1</th>\n",
       "      <td>2</td>\n",
       "      <td>2</td>\n",
       "      <td>M</td>\n",
       "      <td>Other</td>\n",
       "      <td>91</td>\n",
       "      <td>Other</td>\n",
       "      <td>94</td>\n",
       "      <td>94</td>\n",
       "      <td>Assist</td>\n",
       "      <td>0</td>\n",
       "      <td>4743.0</td>\n",
       "    </tr>\n",
       "    <tr>\n",
       "      <th>2</th>\n",
       "      <td>3</td>\n",
       "      <td>2</td>\n",
       "      <td>M</td>\n",
       "      <td>Other</td>\n",
       "      <td>91</td>\n",
       "      <td>Other</td>\n",
       "      <td>94</td>\n",
       "      <td>95</td>\n",
       "      <td>Assist</td>\n",
       "      <td>0</td>\n",
       "      <td>4881.0</td>\n",
       "    </tr>\n",
       "    <tr>\n",
       "      <th>3</th>\n",
       "      <td>4</td>\n",
       "      <td>4</td>\n",
       "      <td>M</td>\n",
       "      <td>PhD</td>\n",
       "      <td>96</td>\n",
       "      <td>Other</td>\n",
       "      <td>95</td>\n",
       "      <td>95</td>\n",
       "      <td>Assist</td>\n",
       "      <td>0</td>\n",
       "      <td>4231.0</td>\n",
       "    </tr>\n",
       "    <tr>\n",
       "      <th>4</th>\n",
       "      <td>5</td>\n",
       "      <td>6</td>\n",
       "      <td>M</td>\n",
       "      <td>PhD</td>\n",
       "      <td>66</td>\n",
       "      <td>Other</td>\n",
       "      <td>91</td>\n",
       "      <td>91</td>\n",
       "      <td>Full</td>\n",
       "      <td>1</td>\n",
       "      <td>11182.0</td>\n",
       "    </tr>\n",
       "    <tr>\n",
       "      <th>...</th>\n",
       "      <td>...</td>\n",
       "      <td>...</td>\n",
       "      <td>...</td>\n",
       "      <td>...</td>\n",
       "      <td>...</td>\n",
       "      <td>...</td>\n",
       "      <td>...</td>\n",
       "      <td>...</td>\n",
       "      <td>...</td>\n",
       "      <td>...</td>\n",
       "      <td>...</td>\n",
       "    </tr>\n",
       "    <tr>\n",
       "      <th>19787</th>\n",
       "      <td>19788</td>\n",
       "      <td>1770</td>\n",
       "      <td>M</td>\n",
       "      <td>Other</td>\n",
       "      <td>51</td>\n",
       "      <td>Other</td>\n",
       "      <td>64</td>\n",
       "      <td>91</td>\n",
       "      <td>Full</td>\n",
       "      <td>0</td>\n",
       "      <td>5318.0</td>\n",
       "    </tr>\n",
       "    <tr>\n",
       "      <th>19788</th>\n",
       "      <td>19789</td>\n",
       "      <td>1770</td>\n",
       "      <td>M</td>\n",
       "      <td>Other</td>\n",
       "      <td>51</td>\n",
       "      <td>Other</td>\n",
       "      <td>64</td>\n",
       "      <td>92</td>\n",
       "      <td>Full</td>\n",
       "      <td>0</td>\n",
       "      <td>5472.0</td>\n",
       "    </tr>\n",
       "    <tr>\n",
       "      <th>19789</th>\n",
       "      <td>19790</td>\n",
       "      <td>1770</td>\n",
       "      <td>M</td>\n",
       "      <td>Other</td>\n",
       "      <td>51</td>\n",
       "      <td>Other</td>\n",
       "      <td>64</td>\n",
       "      <td>93</td>\n",
       "      <td>Full</td>\n",
       "      <td>0</td>\n",
       "      <td>5551.0</td>\n",
       "    </tr>\n",
       "    <tr>\n",
       "      <th>19790</th>\n",
       "      <td>19791</td>\n",
       "      <td>1770</td>\n",
       "      <td>M</td>\n",
       "      <td>Other</td>\n",
       "      <td>51</td>\n",
       "      <td>Other</td>\n",
       "      <td>64</td>\n",
       "      <td>94</td>\n",
       "      <td>Full</td>\n",
       "      <td>0</td>\n",
       "      <td>5551.0</td>\n",
       "    </tr>\n",
       "    <tr>\n",
       "      <th>19791</th>\n",
       "      <td>19792</td>\n",
       "      <td>1770</td>\n",
       "      <td>M</td>\n",
       "      <td>Other</td>\n",
       "      <td>51</td>\n",
       "      <td>Other</td>\n",
       "      <td>64</td>\n",
       "      <td>95</td>\n",
       "      <td>Full</td>\n",
       "      <td>0</td>\n",
       "      <td>5712.0</td>\n",
       "    </tr>\n",
       "  </tbody>\n",
       "</table>\n",
       "<p>19788 rows × 11 columns</p>\n",
       "</div>"
      ],
      "text/plain": [
       "        case    id gender    deg  yrdeg  field  startyr  year    rank  admin  \\\n",
       "0          1     1      F  Other     92  Other       95    95  Assist      0   \n",
       "1          2     2      M  Other     91  Other       94    94  Assist      0   \n",
       "2          3     2      M  Other     91  Other       94    95  Assist      0   \n",
       "3          4     4      M    PhD     96  Other       95    95  Assist      0   \n",
       "4          5     6      M    PhD     66  Other       91    91    Full      1   \n",
       "...      ...   ...    ...    ...    ...    ...      ...   ...     ...    ...   \n",
       "19787  19788  1770      M  Other     51  Other       64    91    Full      0   \n",
       "19788  19789  1770      M  Other     51  Other       64    92    Full      0   \n",
       "19789  19790  1770      M  Other     51  Other       64    93    Full      0   \n",
       "19790  19791  1770      M  Other     51  Other       64    94    Full      0   \n",
       "19791  19792  1770      M  Other     51  Other       64    95    Full      0   \n",
       "\n",
       "        salary  \n",
       "0       6684.0  \n",
       "1       4743.0  \n",
       "2       4881.0  \n",
       "3       4231.0  \n",
       "4      11182.0  \n",
       "...        ...  \n",
       "19787   5318.0  \n",
       "19788   5472.0  \n",
       "19789   5551.0  \n",
       "19790   5551.0  \n",
       "19791   5712.0  \n",
       "\n",
       "[19788 rows x 11 columns]"
      ]
     },
     "execution_count": 16,
     "metadata": {},
     "output_type": "execute_result"
    }
   ],
   "source": [
    "df_can"
   ]
  },
  {
   "cell_type": "markdown",
   "metadata": {},
   "source": [
    "# Pie Charts \n",
    "\n",
    "A `pie chart` is a circular graphic that displays numeric proportions by dividing a circle (or pie) into proportional slices.\n",
    "\n"
   ]
  },
  {
   "cell_type": "code",
   "execution_count": 18,
   "metadata": {},
   "outputs": [
    {
     "data": {
      "text/plain": [
       "Index(['case', 'id', 'gender', 'deg', 'yrdeg', 'field', 'startyr', 'year',\n",
       "       'rank', 'admin', 'salary'],\n",
       "      dtype='object')"
      ]
     },
     "execution_count": 18,
     "metadata": {},
     "output_type": "execute_result"
    }
   ],
   "source": [
    "df_can.columns"
   ]
  },
  {
   "cell_type": "code",
   "execution_count": 45,
   "metadata": {},
   "outputs": [
    {
     "data": {
      "image/png": "[encoded data removed]",
      "text/plain": [
       "<Figure size 720x432 with 1 Axes>"
      ]
     },
     "metadata": {},
     "output_type": "display_data"
    }
   ],
   "source": [
    "df_rank = df_can.groupby('rank', axis = 0).sum()\n",
    "df_rank['salary'].plot(kind = 'pie',\n",
    "                     figsize = (10,6),\n",
    "                     autopct = '%1.1f%%', \n",
    "                     startangle = 90,\n",
    "                     shadow = True\n",
    "                     )\n",
    "plt.title('Salary per Rank') \n",
    "\n",
    "plt.axis('equal') \n",
    "\n",
    "# add legend\n",
    "plt.legend(labels=df_rank.index, loc='upper right', fontsize=7) \n",
    "\n",
    "plt.show()"
   ]
  },
  {
   "cell_type": "markdown",
   "metadata": {},
   "source": [
    "## Conclusion\n",
    "\n",
    "This Pie chart shows \"Salary by Rank\". From this chart we can see the Full time Faculty members get maximum salary which is 57.5%, follwed by the Associate faculty members, which is 27.8 % and lastly the Assistant faculty members which is 14.7%"
   ]
  },
  {
   "cell_type": "code",
   "execution_count": 33,
   "metadata": {},
   "outputs": [
    {
     "name": "stdout",
     "output_type": "stream",
     "text": [
      "<class 'pandas.core.groupby.generic.DataFrameGroupBy'>\n"
     ]
    },
    {
     "data": {
      "image/png": "[encoded data removed]",
      "text/plain": [
       "<Figure size 720x432 with 1 Axes>"
      ]
     },
     "metadata": {},
     "output_type": "display_data"
    }
   ],
   "source": [
    "df_gender = df_can.groupby('gender', axis = 0).sum()\n",
    "print(type(df_can.groupby('gender', axis = 0)))\n",
    "df_gender.head()\n",
    "color_list = ['gold', 'yellowgreen']\n",
    "explode_list = [0.1, 0]\n",
    "\n",
    "\n",
    "df_gender['salary'].plot(kind = 'pie',\n",
    "                     figsize = (10,6),\n",
    "                     autopct = '%1.1f%%', \n",
    "                     startangle = 90,\n",
    "                     shadow = True,\n",
    "                         labels = None,\n",
    "                         pctdistance = 1.12,\n",
    "                         explode = explode_list,\n",
    "                         colors = color_list\n",
    "                     )\n",
    "plt.title('Salary per Gender') \n",
    "\n",
    "plt.axis('equal') \n",
    "\n",
    "# add legend\n",
    "plt.legend(labels=df_gender.index, loc='upper right', fontsize=7) \n",
    "\n",
    "plt.show()"
   ]
  },
  {
   "cell_type": "markdown",
   "metadata": {},
   "source": [
    "## Conclusion\n",
    "\n",
    "This Pie chart shows \"Salary by Gender\". From this chart we can see the the Male faculty member gets the maximum salary which is 82.4% and for Female the salary is 17.6%"
   ]
  },
  {
   "cell_type": "code",
   "execution_count": 37,
   "metadata": {
    "scrolled": true
   },
   "outputs": [
    {
     "name": "stdout",
     "output_type": "stream",
     "text": [
      "<class 'pandas.core.groupby.generic.DataFrameGroupBy'>\n"
     ]
    },
    {
     "data": {
      "image/png": "[encoded data removed]",
      "text/plain": [
       "<Figure size 720x432 with 1 Axes>"
      ]
     },
     "metadata": {},
     "output_type": "display_data"
    }
   ],
   "source": [
    "df_deg = df_can.groupby('deg', axis = 0).sum()\n",
    "print(type(df_can.groupby('deg', axis = 0)))\n",
    "df_deg.head()\n",
    "df_deg['salary'].plot(kind = 'pie',\n",
    "                     figsize = (10,6),\n",
    "                     autopct = '%1.1f%%', \n",
    "                     startangle = 90,\n",
    "                     shadow = True\n",
    "                     )\n",
    "plt.title('Salary per Degree') \n",
    "\n",
    "plt.axis('equal') \n",
    "\n",
    "# add legend\n",
    "plt.legend(labels=df_deg.index, loc='upper right', fontsize=7) \n",
    "\n",
    "plt.show()"
   ]
  },
  {
   "cell_type": "markdown",
   "metadata": {},
   "source": [
    "## Conclusion\n",
    "\n",
    "Experience is another factor that influences faculty salaries. A faculty member's salary tends to increase with the amount of experienced that person is like from the above graph we can see that the faculty who gets more salary is \"PhD\" which is 84.7%, followed by the Prof (professional degree, eg, medicine or law), which is 8.1% and then Other (Master's or Bachelor's degree) with 7.1%."
   ]
  },
  {
   "cell_type": "code",
   "execution_count": 44,
   "metadata": {},
   "outputs": [
    {
     "name": "stdout",
     "output_type": "stream",
     "text": [
      "<class 'pandas.core.groupby.generic.DataFrameGroupBy'>\n"
     ]
    },
    {
     "data": {
      "image/png": "[encoded data removed]",
      "text/plain": [
       "<Figure size 720x432 with 1 Axes>"
      ]
     },
     "metadata": {},
     "output_type": "display_data"
    }
   ],
   "source": [
    "df_AdminVsGen = df_can.groupby('gender', axis = 0).sum()\n",
    "print(type(df_can.groupby('gender', axis = 0)))\n",
    "df_AdminVsGen.head()\n",
    "df_AdminVsGen['admin'].plot(kind = 'pie',\n",
    "                     figsize = (10,6),\n",
    "                     autopct = '%1.1f%%', \n",
    "                     startangle = 90,\n",
    "                     shadow = True\n",
    "                     )\n",
    "plt.title('Gender Vs Admin') \n",
    "\n",
    "plt.axis('equal') \n",
    "\n",
    "# add legend\n",
    "plt.legend(labels=df_AdminVsGen.index, loc='upper right', fontsize=7) \n",
    "\n",
    "plt.show()"
   ]
  },
  {
   "cell_type": "markdown",
   "metadata": {},
   "source": [
    "## Conclusion\n",
    "\n",
    "This Pie chart shows \"Gender Vs Admin\". From this chart we can see most of the Male are Admin, 85.9% as compair to the Female which is 14.1%"
   ]
  },
  {
   "cell_type": "markdown",
   "metadata": {},
   "source": [
    "# Final Insight\n",
    "\n",
    "According to the \"Salary by Gender\" and \"Gender Vs Admin\", we come to a conclusion that there is Gender biasness for Male Faculties\n"
   ]
  },
  {
   "cell_type": "code",
   "execution_count": null,
   "metadata": {},
   "outputs": [],
   "source": []
  }
 ],
 "metadata": {
  "kernelspec": {
   "display_name": "Python 3",
   "language": "python",
   "name": "python3"
  },
  "language_info": {
   "codemirror_mode": {
    "name": "ipython",
    "version": 3
   },
   "file_extension": ".py",
   "mimetype": "text/x-python",
   "name": "python",
   "nbconvert_exporter": "python",
   "pygments_lexer": "ipython3",
   "version": "3.8.5"
  },
  "toc": {
   "base_numbering": 1,
   "nav_menu": {},
   "number_sections": true,
   "sideBar": true,
   "skip_h1_title": false,
   "title_cell": "Table of Contents",
   "title_sidebar": "Contents",
   "toc_cell": false,
   "toc_position": {},
   "toc_section_display": true,
   "toc_window_display": false
  }
 },
 "nbformat": 4,
 "nbformat_minor": 4
}
